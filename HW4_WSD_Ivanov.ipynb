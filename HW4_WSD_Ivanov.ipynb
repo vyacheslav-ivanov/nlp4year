{
 "cells": [
  {
   "cell_type": "code",
   "execution_count": 1,
   "metadata": {},
   "outputs": [],
   "source": [
    "from nltk.corpus import wordnet"
   ]
  },
  {
   "cell_type": "markdown",
   "metadata": {},
   "source": [
    "<b>1) Найти все значения (синсеты) для лексемы plant<b>"
   ]
  },
  {
   "cell_type": "code",
   "execution_count": 3,
   "metadata": {},
   "outputs": [
    {
     "name": "stdout",
     "output_type": "stream",
     "text": [
      "Synset('cup.n.01') a small open container usually used for drinking; usually has a handle\n",
      "Synset('cup.n.02') the quantity a cup will hold\n",
      "Synset('cup.n.03') any cup-shaped concavity\n",
      "Synset('cup.n.04') a United States liquid unit equal to 8 fluid ounces\n",
      "Synset('cup.n.05') cup-shaped plant organ\n",
      "Synset('cup.n.06') a punch served in a pitcher instead of a punch bowl\n",
      "Synset('cup.n.07') the hole (or metal container in the hole) on a golf green\n",
      "Synset('cup.n.08') a large metal vessel with two handles that is awarded as a trophy to the winner of a competition\n",
      "Synset('cup.v.01') form into the shape of a cup\n",
      "Synset('cup.v.02') put into a cup\n",
      "Synset('cup.v.03') treat by applying evacuated cups to the patient's skin\n"
     ]
    }
   ],
   "source": [
    "cup = wordnet.synsets('cup')\n",
    "for ss in cup:\n",
    "    print(ss, ss.definition())"
   ]
  },
  {
   "cell_type": "markdown",
   "metadata": {},
   "source": [
    "<b>2) Найти определение для лексемы cup в значении (а) \"кружка\" и в значении (b) \"кубок\"</b>"
   ]
  },
  {
   "cell_type": "code",
   "execution_count": 8,
   "metadata": {},
   "outputs": [
    {
     "name": "stdout",
     "output_type": "stream",
     "text": [
      "Synset('cup.n.01') a small open container usually used for drinking; usually has a handle\n",
      "Synset('cup.n.08') a large metal vessel with two handles that is awarded as a trophy to the winner of a competition\n"
     ]
    }
   ],
   "source": [
    "print(cup[0], cup[0].definition())\n",
    "print(cup[7], cup[7].definition())"
   ]
  },
  {
   "cell_type": "markdown",
   "metadata": {},
   "source": [
    "<b>3) Найдите два произвольных контекста для слова cup в значениях (a) \"кружка\" и (b) \"кубок\"; продемонстрируйте на них действие алгоритма Леска для разрешения неоднозначности</b>"
   ]
  },
  {
   "cell_type": "code",
   "execution_count": 13,
   "metadata": {},
   "outputs": [
    {
     "name": "stdout",
     "output_type": "stream",
     "text": [
      "['Cups', 'are', 'used', 'for', 'quenching', 'thirst', 'across', 'a', 'wide', 'range', 'of', 'cultures', 'and', 'social', 'classes']\n",
      "['Lucas', 'Oil', 'Sportsman', 'Cup', 'is', 'a', 'Canadian', 'stock', 'car', 'racing', 'series']\n"
     ]
    }
   ],
   "source": [
    "sent1 = 'Cups are used for quenching thirst across a wide range of cultures and social classes.'\n",
    "sent2 = 'Lucas Oil Sportsman Cup is a Canadian stock car racing series.'\n",
    "sent1_tokens = [word.strip('.,') for word in sent1.split(' ')]\n",
    "sent2_tokens = [word.strip('.,') for word in sent2.split(' ')]\n",
    "print(sent1_tokens)\n",
    "print(sent2_tokens)"
   ]
  },
  {
   "cell_type": "code",
   "execution_count": 14,
   "metadata": {},
   "outputs": [
    {
     "name": "stdout",
     "output_type": "stream",
     "text": [
      "a small open container usually used for drinking; usually has a handle\n",
      "a large metal vessel with two handles that is awarded as a trophy to the winner of a competition\n"
     ]
    }
   ],
   "source": [
    "from nltk.wsd import lesk\n",
    "print(lesk(sent1_tokens, 'cup').definition())\n",
    "print(lesk(sent2_tokens, 'cup').definition())"
   ]
  },
  {
   "cell_type": "markdown",
   "metadata": {},
   "source": [
    "<b>4) Найдите гиперонимы для значения (a) и гиперонимы для значения (b)</b>"
   ]
  },
  {
   "cell_type": "code",
   "execution_count": 16,
   "metadata": {},
   "outputs": [
    {
     "name": "stdout",
     "output_type": "stream",
     "text": [
      "Synset('container.n.01') any object that can be used to hold things (especially a large metal boxlike object of standardized dimensions that can be loaded from one form of transport to another)\n",
      "Synset('crockery.n.01') tableware (eating and serving dishes) collectively\n",
      "Synset('containerful.n.01') the quantity that a container will hold\n"
     ]
    }
   ],
   "source": [
    "for ss in cup[0].hypernyms():\n",
    "    print(ss, ss.definition())\n",
    "for ss in cup[1].hypernyms():\n",
    "    print(ss, ss.definition())"
   ]
  },
  {
   "cell_type": "markdown",
   "metadata": {},
   "source": [
    "<b>5) Вычислите наименьшее расстояние между значением cup \"кружка\" и значениями лексемы mug, а также cup \"кубок\" и значениями лексемы trophy.\n",
    "Найти min (d(cup: \"кружка\", mug), d(cup: \"кружка\", trophy)), а также min (d(cup: \"кубок\", mug), d(cup: \"кубок\", trophy))</b>"
   ]
  },
  {
   "cell_type": "code",
   "execution_count": 33,
   "metadata": {},
   "outputs": [
    {
     "name": "stdout",
     "output_type": "stream",
     "text": [
      "min d(cup: \"кружка\", mug): 4\n",
      "closest lemma definition: with handle and usually cylindrical\n",
      "\n",
      "min d(cup: \"кружка\", sport): 7\n",
      "closest lemma definition: (biology) an organism that has characteristics resulting from chromosomal alteration\n",
      "\n",
      "min d(cup: \"кубок\", mug): 10\n",
      "closest lemma definition: the quantity that can be held in a mug\n",
      "\n",
      "min d(cup: \"кубок\", sport): 8\n",
      "closest lemma definition: verbal wit or mockery (often at another's expense but not to be taken seriously)\n",
      "\n",
      "min (d(cup: \"кружка\", mug), d(cup: \"кружка\", sport)): 4\n",
      "min (d(cup: \"кубок\", mug), d(cup: \"кубок\", sport)): 8\n"
     ]
    }
   ],
   "source": [
    "mug = wordnet.synsets('mug')\n",
    "sport = wordnet.synsets('sport')\n",
    "\n",
    "def get_dist_sim(ss1, lexeme):\n",
    "    distances = []\n",
    "    similarities = []\n",
    "    for ss2 in lexeme:\n",
    "        dist = ss1.shortest_path_distance(ss2)\n",
    "        if dist is not None:\n",
    "            distances.append(dist)\n",
    "            sim = ss1.path_similarity(ss2)\n",
    "            similarities.append(sim)\n",
    "    return distances, similarities\n",
    "\n",
    "# min d(cup: \"кружка\", mug)\n",
    "dist1 = get_dist_sim(cup[0], mug)[0]\n",
    "print('min d(cup: \"кружка\", mug): {}'.format(min(dist1)))\n",
    "print('closest lemma definition: {}\\n'.format(mug[dist1.index(min(dist1))].definition()))\n",
    "# Правда, здесь выводится только одно ближайшее значение. Их может быть несколько.\n",
    "\n",
    "# min d(cup: \"кружка\", sport)\n",
    "dist2 = get_dist_sim(cup[0], sport)[0]\n",
    "print('min d(cup: \"кружка\", sport): {}'.format(min(dist2)))\n",
    "print('closest lemma definition: {}\\n'.format(sport[dist2.index(min(dist2))].definition()))\n",
    "\n",
    "# min d(cup: \"кубок\", mug)\n",
    "dist3 = get_dist_sim(cup[7], mug)[0]\n",
    "print('min d(cup: \"кубок\", mug): {}'.format(min(dist3)))\n",
    "print('closest lemma definition: {}\\n'.format(mug[dist3.index(min(dist3))].definition()))\n",
    "\n",
    "# min d(cup: \"кубок\", sport)\n",
    "dist4 = get_dist_sim(cup[7], sport)[0]\n",
    "print('min d(cup: \"кубок\", sport): {}'.format(min(dist4)))\n",
    "print('closest lemma definition: {}\\n'.format(sport[dist4.index(min(dist4))].definition()))\n",
    "\n",
    "print('min (d(cup: \"кружка\", mug), d(cup: \"кружка\", sport)): {}'.format(min(min(dist1), min(dist2))))\n",
    "print('min (d(cup: \"кубок\", mug), d(cup: \"кубок\", sport)): {}'.format(min(min(dist3), min(dist4))))"
   ]
  },
  {
   "cell_type": "markdown",
   "metadata": {},
   "source": [
    "Кратчайшее расстояние от кружки до mug - 4, до sport - 7. Кратчайшее расстояние от кубка до mug - 10, до sport - 8. \n"
   ]
  },
  {
   "cell_type": "markdown",
   "metadata": {},
   "source": [
    "<b>6) Вычислить двумя разными способами расстояние:\n",
    "d(cup: \"кружка\", glass) и d(computer, whole)\n",
    "Есть ли разница в расстояниях? Какое из расстояний, по Вашему мнению, в лучшей степени отражает интуитивное представление о семантчиеской близости слов?</b>\n",
    "\n",
    "А вот здесь же точно речь идет о сходстве/близости значений, а не о стандартном расстоянии? (Потому что стандартное расстояние - кратчайший путь - трудно считать несколькими способами.)\n"
   ]
  },
  {
   "cell_type": "code",
   "execution_count": 48,
   "metadata": {},
   "outputs": [
    {
     "name": "stdout",
     "output_type": "stream",
     "text": [
      "Synset('glass.n.01') a brittle transparent solid with irregular atomic structure\n",
      "Synset('glass.n.02') a container for holding liquids while drinking\n",
      "Synset('glass.n.03') the quantity a glass will hold\n",
      "Synset('field_glass.n.01') a small refracting telescope\n",
      "Synset('methamphetamine.n.01') an amphetamine derivative (trade name Methedrine) used in the form of a crystalline hydrochloride; used as a stimulant to the nervous system and as an appetite suppressant\n",
      "Synset('looking_glass.n.01') a mirror; usually a ladies' dressing mirror\n",
      "Synset('glass.n.07') glassware collectively\n",
      "Synset('glass.v.01') furnish with glass\n",
      "Synset('glass.v.02') scan (game in the forest) with binoculars\n",
      "Synset('glass.v.03') enclose with glass\n",
      "Synset('glass.v.04') put in a glass container\n",
      "Synset('glaze.v.02') become glassy or take on a glass-like appearance\n"
     ]
    }
   ],
   "source": [
    "glass = wordnet.synsets(\"glass\")\n",
    "for ss in glass:\n",
    "    print(ss, ss.definition())"
   ]
  },
  {
   "cell_type": "markdown",
   "metadata": {},
   "source": [
    "Посчитаем близость с помощью критериев Path Similarity, Leacock-Chodorow Similarity, Wu-Palmer Similarity, Resnik Similarity, Jiang-Conrath Similarity и Lin Similarity. Для последних трех будем использовать Information Content корпуса Brown."
   ]
  },
  {
   "cell_type": "code",
   "execution_count": 45,
   "metadata": {},
   "outputs": [
    {
     "name": "stdout",
     "output_type": "stream",
     "text": [
      "0.3333333333333333\n",
      "2.538973871058276\n",
      "0.875\n",
      "5.205612601196791\n",
      "0.10673543596263503\n",
      "0.5263462017356473\n"
     ]
    }
   ],
   "source": [
    "from nltk.corpus import wordnet_ic\n",
    "ic = wordnet_ic.ic('ic-brown.dat')\n",
    "\n",
    "print(cup[0].path_similarity(master[1]))\n",
    "\n",
    "#Leacock-Chodorow Similarity\n",
    "print(cup[0].lch_similarity(master[1]))\n",
    "\n",
    "#Wu-Palmer Similarity\n",
    "print(cup[0].wup_similarity(master[1]))\n",
    "    \n",
    "#Resnik Similarity\n",
    "print(cup[0].res_similarity(master[1], ic))\n",
    "    \n",
    "#Jiang-Conrath Similarity\n",
    "print(cup[0].jcn_similarity(master[1], ic))\n",
    "    \n",
    "#Lin Similarity\n",
    "print(cup[0].lin_similarity(master[1], ic))\n"
   ]
  },
  {
   "cell_type": "code",
   "execution_count": 40,
   "metadata": {},
   "outputs": [
    {
     "name": "stdout",
     "output_type": "stream",
     "text": [
      "Synset('computer.n.01') a machine for performing calculations automatically\n",
      "Synset('computer.n.01') []\n",
      "Synset('calculator.n.01') an expert at calculation (or at operating calculating machines)\n",
      "Synset('calculator.n.01') []\n"
     ]
    }
   ],
   "source": [
    "computer = wordnet.synsets('computer')\n",
    "for ss in computer:\n",
    "    print(ss, ss.definition())\n",
    "    print(ss, ss.examples())"
   ]
  },
  {
   "cell_type": "code",
   "execution_count": 46,
   "metadata": {},
   "outputs": [
    {
     "name": "stdout",
     "output_type": "stream",
     "text": [
      "Synset('whole.n.01') all of something including all its component elements or parts\n",
      "Synset('whole.n.01') ['Europe considered as a whole', 'the whole of American literature']\n",
      "Synset('whole.n.02') an assemblage of parts that is regarded as a single entity\n",
      "Synset('whole.n.02') ['how big is that part compared to the whole?', 'the team is a unit']\n"
     ]
    }
   ],
   "source": [
    "whole = wordnet.synsets('whole', 'n')\n",
    "for ss in whole:\n",
    "    print(ss, ss.definition())\n",
    "    print(ss, ss.examples())"
   ]
  },
  {
   "cell_type": "code",
   "execution_count": 47,
   "metadata": {},
   "outputs": [
    {
     "name": "stdout",
     "output_type": "stream",
     "text": [
      "a machine for performing calculations automatically\n",
      "all of something including all its component elements or parts\n",
      "0.0625\n",
      "0.8649974374866046\n",
      "0.11764705882352941\n",
      "-0.0\n",
      "0.06714957325088565\n",
      "-0.0\n",
      "an assemblage of parts that is regarded as a single entity\n",
      "0.16666666666666666\n",
      "1.845826690498331\n",
      "0.6153846153846154\n",
      "1.5318337432196856\n",
      "0.13888069313518\n",
      "0.29848401331547053\n",
      "an expert at calculation (or at operating calculating machines)\n",
      "all of something including all its component elements or parts\n",
      "0.07692307692307693\n",
      "1.072636802264849\n",
      "0.14285714285714285\n",
      "-0.0\n",
      "0.056722345523188084\n",
      "-0.0\n",
      "an assemblage of parts that is regarded as a single entity\n",
      "0.16666666666666666\n",
      "1.845826690498331\n",
      "0.6153846153846154\n",
      "1.5318337432196856\n",
      "0.10062352477721402\n",
      "0.23563589073882704\n"
     ]
    }
   ],
   "source": [
    "for ss1 in computer:\n",
    "    print(ss1.definition())\n",
    "    for ss2 in whole:\n",
    "        print(ss2.definition())\n",
    "        print(ss1.path_similarity(ss2))\n",
    "\n",
    "        #Leacock-Chodorow Similarity\n",
    "        print(ss1.lch_similarity(ss2))\n",
    "\n",
    "        #Wu-Palmer Similarity\n",
    "        print(ss1.wup_similarity(ss2))\n",
    "\n",
    "        #Resnik Similarity\n",
    "        print(ss1.res_similarity(ss2, ic))\n",
    "\n",
    "        #Jiang-Conrath Similarity\n",
    "        print(ss1.jcn_similarity(ss2, ic))\n",
    "\n",
    "        #Lin Similarity\n",
    "        print(ss1.lin_similarity(ss2, ic))"
   ]
  },
  {
   "cell_type": "markdown",
   "metadata": {},
   "source": [
    "Для пары \"кружка\" - \"стакан\" самое большое значение показала метрика Resnik Similarity. Разница в наблюдаемых расстояниях есть, однако она не очень велика, чтобы однозначно сказать, что разница в расстоянии значима. "
   ]
  },
  {
   "cell_type": "code",
   "execution_count": null,
   "metadata": {
    "collapsed": true
   },
   "outputs": [],
   "source": []
  }
 ],
 "metadata": {
  "kernelspec": {
   "display_name": "Python 3",
   "language": "python",
   "name": "python3"
  },
  "language_info": {
   "codemirror_mode": {
    "name": "ipython",
    "version": 3
   },
   "file_extension": ".py",
   "mimetype": "text/x-python",
   "name": "python",
   "nbconvert_exporter": "python",
   "pygments_lexer": "ipython3",
   "version": "3.4.2"
  }
 },
 "nbformat": 4,
 "nbformat_minor": 1
}
